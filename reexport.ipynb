{
 "cells": [
  {
   "cell_type": "code",
   "execution_count": 1,
   "id": "7a691b05",
   "metadata": {},
   "outputs": [],
   "source": [
    "import tensorflow as tf"
   ]
  },
  {
   "cell_type": "code",
   "execution_count": 5,
   "id": "019a7318",
   "metadata": {},
   "outputs": [],
   "source": [
    "import tensorflow as tf\n",
    "\n",
    "# Load the original SavedModel\n",
    "loaded = tf.saved_model.load(\"main_model/AdaIN\")\n",
    "\n",
    "# Access the callable function (usually 'serving_default')\n",
    "stylize_fn = loaded.signatures[\"serving_default\"]\n"
   ]
  },
  {
   "cell_type": "code",
   "execution_count": 6,
   "metadata": {},
   "outputs": [],
   "source": [
    "@tf.function(input_signature=[\n",
    "    tf.TensorSpec([None, 224, 224, 3], tf.float32),  # Content image\n",
    "    tf.TensorSpec([None, 224, 224, 3], tf.float32)   # Style image\n",
    "])\n",
    "def new_stylize_fn(content, style):\n",
    "    return stylize_fn(inputs=content, inputs_1=style)\n"
   ]
  },
  {
   "cell_type": "code",
   "execution_count": 7,
   "id": "2bf08998",
   "metadata": {},
   "outputs": [
    {
     "name": "stdout",
     "output_type": "stream",
     "text": [
      "INFO:tensorflow:Assets written to: exported_model\\assets\n"
     ]
    },
    {
     "name": "stderr",
     "output_type": "stream",
     "text": [
      "INFO:tensorflow:Assets written to: exported_model\\assets\n"
     ]
    }
   ],
   "source": [
    "tf.saved_model.save(\n",
    "    loaded,\n",
    "    export_dir=\"exported_model\",\n",
    "    signatures={\"serving_default\": new_stylize_fn}\n",
    ")\n"
   ]
  }
 ],
 "metadata": {
  "kernelspec": {
   "display_name": "venv",
   "language": "python",
   "name": "python3"
  },
  "language_info": {
   "codemirror_mode": {
    "name": "ipython",
    "version": 3
   },
   "file_extension": ".py",
   "mimetype": "text/x-python",
   "name": "python",
   "nbconvert_exporter": "python",
   "pygments_lexer": "ipython3",
   "version": "3.11.0"
  }
 },
 "nbformat": 4,
 "nbformat_minor": 5
}
